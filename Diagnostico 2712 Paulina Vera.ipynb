import pandas as pd
import numpy as np
from pandas.core.frame import DataFrame

#crear listas
nombre = ['Oliva', 'Daniela', 'Juan', 'Germán', 'Edward', 'Alex', 'Julio', 'Edgar', 'Angie', 'Irlesa']
edad= [11, 8, 15, 8, 19, 17, 8, 18,14,20]

#Crear diccionario de las listas
jugadores = {'Nombre': nombre, 'Edad': edad}
print (jugadores)

#Crear Data Frame
Data_1 = pd.DataFrame(data=jugadores)
print (Data_1)

# Obtener jugadores con nombre que empiece con J
print(Data_1[Data_1.Nombre.str.contains('J')])
#Obtener jugadores con edad menor o igual a 10 años
data_filter1 = Data_1[Data_1['Edad'] <= 10]
print (data_filter1) 